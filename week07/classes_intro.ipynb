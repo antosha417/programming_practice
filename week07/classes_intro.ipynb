{
 "cells": [
  {
   "cell_type": "code",
   "execution_count": 2,
   "metadata": {
    "slideshow": {
     "slide_type": "-"
    }
   },
   "outputs": [],
   "source": [
    "class A(object):\n",
    "    pass"
   ]
  },
  {
   "cell_type": "markdown",
   "metadata": {
    "slideshow": {
     "slide_type": "slide"
    }
   },
   "source": [
    "Классы это ...\n",
    "- Способ обьединить данные и методы работы с ними за единой абстракцией\n",
    "- Объекты которые порождают другие обьекты при вызове\n",
    "- Модель объекта\n",
    "- Способ самостоятельно создавать типы\n",
    "\n",
    "Объекты = Экземпляры классов.\n",
    "\n",
    "int – класс ; 1, 2, 3 – объекты этого класса"
   ]
  },
  {
   "cell_type": "markdown",
   "metadata": {
    "slideshow": {
     "slide_type": "slide"
    }
   },
   "source": [
    "## Атрибуты класса"
   ]
  },
  {
   "cell_type": "code",
   "execution_count": 4,
   "metadata": {
    "slideshow": {
     "slide_type": "-"
    }
   },
   "outputs": [
    {
     "data": {
      "text/plain": [
       "'chickadee'"
      ]
     },
     "execution_count": 4,
     "metadata": {},
     "output_type": "execute_result"
    }
   ],
   "source": [
    "class Bird(object):\n",
    "    kind = \"chickadee\"\n",
    "\n",
    "bird = Bird()\n",
    "bird.kind"
   ]
  },
  {
   "cell_type": "code",
   "execution_count": 5,
   "metadata": {},
   "outputs": [
    {
     "data": {
      "text/plain": [
       "'chickadee'"
      ]
     },
     "execution_count": 5,
     "metadata": {},
     "output_type": "execute_result"
    }
   ],
   "source": [
    "Bird.kind"
   ]
  },
  {
   "cell_type": "code",
   "execution_count": 6,
   "metadata": {},
   "outputs": [
    {
     "data": {
      "text/plain": [
       "10"
      ]
     },
     "execution_count": 6,
     "metadata": {},
     "output_type": "execute_result"
    }
   ],
   "source": [
    "bird.length = 10\n",
    "bird.length"
   ]
  },
  {
   "cell_type": "code",
   "execution_count": 7,
   "metadata": {},
   "outputs": [
    {
     "data": {
      "text/plain": [
       "(type, __main__.Bird)"
      ]
     },
     "execution_count": 7,
     "metadata": {},
     "output_type": "execute_result"
    }
   ],
   "source": [
    "type(Bird), type(bird)"
   ]
  },
  {
   "cell_type": "code",
   "execution_count": 8,
   "metadata": {
    "slideshow": {
     "slide_type": "subslide"
    }
   },
   "outputs": [
    {
     "data": {
      "text/plain": [
       "['John Silver', 'Billy Bones']"
      ]
     },
     "execution_count": 8,
     "metadata": {},
     "output_type": "execute_result"
    }
   ],
   "source": [
    "class Whatever(object):\n",
    "    pass\n",
    "\n",
    "w = Whatever()\n",
    "w.pirates = ['John Silver', 'Billy Bones']\n",
    "w.pirates"
   ]
  },
  {
   "cell_type": "markdown",
   "metadata": {
    "slideshow": {
     "slide_type": "slide"
    }
   },
   "source": [
    "### Методы класса"
   ]
  },
  {
   "cell_type": "code",
   "execution_count": 9,
   "metadata": {
    "slideshow": {
     "slide_type": "-"
    }
   },
   "outputs": [
    {
     "name": "stdout",
     "output_type": "stream",
     "text": [
      "Pew pew pew\n"
     ]
    }
   ],
   "source": [
    "class Bird(object):\n",
    "    def tweet(self):\n",
    "        print('Pew pew pew')\n",
    "        \n",
    "b = Bird()\n",
    "b.tweet()"
   ]
  },
  {
   "cell_type": "code",
   "execution_count": 10,
   "metadata": {
    "slideshow": {
     "slide_type": "-"
    }
   },
   "outputs": [
    {
     "ename": "TypeError",
     "evalue": "tweet() missing 1 required positional argument: 'self'",
     "output_type": "error",
     "traceback": [
      "\u001b[0;31m---------------------------------------------------------------------------\u001b[0m",
      "\u001b[0;31mTypeError\u001b[0m                                 Traceback (most recent call last)",
      "\u001b[0;32m<ipython-input-10-c2367177959c>\u001b[0m in \u001b[0;36m<module>\u001b[0;34m\u001b[0m\n\u001b[0;32m----> 1\u001b[0;31m \u001b[0mBird\u001b[0m\u001b[0;34m.\u001b[0m\u001b[0mtweet\u001b[0m\u001b[0;34m(\u001b[0m\u001b[0;34m)\u001b[0m\u001b[0;34m\u001b[0m\u001b[0;34m\u001b[0m\u001b[0m\n\u001b[0m",
      "\u001b[0;31mTypeError\u001b[0m: tweet() missing 1 required positional argument: 'self'"
     ]
    }
   ],
   "source": [
    "Bird.tweet()"
   ]
  },
  {
   "cell_type": "code",
   "execution_count": 14,
   "metadata": {},
   "outputs": [
    {
     "name": "stdout",
     "output_type": "stream",
     "text": [
      "Pew pew pew\n"
     ]
    }
   ],
   "source": [
    "b.tweet()"
   ]
  },
  {
   "cell_type": "code",
   "execution_count": 15,
   "metadata": {},
   "outputs": [
    {
     "name": "stdout",
     "output_type": "stream",
     "text": [
      "Pew pew pew\n"
     ]
    }
   ],
   "source": [
    "Bird.tweet(b)"
   ]
  },
  {
   "cell_type": "markdown",
   "metadata": {
    "slideshow": {
     "slide_type": "slide"
    }
   },
   "source": [
    "### self\n",
    "\n",
    "Аналогичен this в C++ и Java, передаётся явно"
   ]
  },
  {
   "cell_type": "code",
   "execution_count": 19,
   "metadata": {
    "slideshow": {
     "slide_type": "-"
    }
   },
   "outputs": [
    {
     "name": "stdout",
     "output_type": "stream",
     "text": [
      "Tweet! It's 0 tweet totay!\n",
      "Tweet! It's 1 tweet totay!\n",
      "Tweet! It's 2 tweet totay!\n"
     ]
    }
   ],
   "source": [
    "class Bird(object):\n",
    "    tweet_count = 0  # class atribute\n",
    "    \n",
    "    def tweet(self):\n",
    "        print(\"Tweet! It's {} tweet totay!\".format(self.tweet_count))\n",
    "        self.tweet_count += 1\n",
    "        \n",
    "b = Bird()\n",
    "b.tweet()\n",
    "b.tweet()\n",
    "b.tweet()"
   ]
  },
  {
   "cell_type": "code",
   "execution_count": 10,
   "metadata": {
    "slideshow": {
     "slide_type": "slide"
    }
   },
   "outputs": [
    {
     "name": "stdout",
     "output_type": "stream",
     "text": [
      "['Joe']\n",
      "['Joe', 'Bill']\n"
     ]
    }
   ],
   "source": [
    "class CustomerList(object):\n",
    "    names = []\n",
    "    def add_customer(self, customer):\n",
    "        self.names.append(customer)\n",
    "        print(self.names)\n",
    "\n",
    "a, b = CustomerList(), CustomerList()\n",
    "a.add_customer('Joe')\n",
    "b.add_customer('Bill')"
   ]
  },
  {
   "cell_type": "markdown",
   "metadata": {
    "slideshow": {
     "slide_type": "slide"
    }
   },
   "source": [
    "### __init__"
   ]
  },
  {
   "cell_type": "code",
   "execution_count": 11,
   "metadata": {
    "slideshow": {
     "slide_type": "-"
    }
   },
   "outputs": [
    {
     "name": "stdout",
     "output_type": "stream",
     "text": [
      "['Joe']\n",
      "['Bill']\n"
     ]
    }
   ],
   "source": [
    "class CustomerList(object):\n",
    "    def __init__(self):\n",
    "        self.names = []  # object atributes\n",
    "\n",
    "    def add_customer(self, customer):\n",
    "        self.names.append(customer)\n",
    "        print(self.names)\n",
    "\n",
    "a, b = CustomerList(), CustomerList()\n",
    "a.add_customer('Joe')\n",
    "b.add_customer('Bill')"
   ]
  },
  {
   "cell_type": "code",
   "execution_count": 12,
   "metadata": {
    "slideshow": {
     "slide_type": "slide"
    }
   },
   "outputs": [
    {
     "data": {
      "text/plain": [
       "90"
      ]
     },
     "execution_count": 12,
     "metadata": {},
     "output_type": "execute_result"
    }
   ],
   "source": [
    "class Customer(object):\n",
    "    def __init__(self, name, balance=0):\n",
    "        self.name = name\n",
    "        self._balance = balance\n",
    "        \n",
    "    def withdraw(self, amount):\n",
    "        if amount < self._balance:\n",
    "            self._balance -= amount\n",
    "            return self._balance\n",
    "\n",
    "    def deposit(self, amount):\n",
    "        self._balance += amount\n",
    "        return self._balance\n",
    "\n",
    "c = Customer('Danny', 100)\n",
    "c.withdraw(10)"
   ]
  },
  {
   "cell_type": "code",
   "execution_count": 23,
   "metadata": {
    "collapsed": true,
    "slideshow": {
     "slide_type": "subslide"
    }
   },
   "outputs": [],
   "source": [
    "class Car(object):\n",
    "    def __init__(self, miles, model):\n",
    "        self.wheels = 4\n",
    "        self.miles = miles\n",
    "        self.model = model\n",
    "\n",
    "    def price(self):\n",
    "        return 6000 - (.10 * self.miles)\n",
    "\n",
    "    \n",
    "class Truck(object):\n",
    "    def __init__(self, wheels, miles, model):\n",
    "        self.wheels = wheels\n",
    "        self.miles = miles\n",
    "        self.model = model\n",
    "        \n",
    "    def price(self):\n",
    "        return 10000 - (.10 * self.miles)"
   ]
  },
  {
   "cell_type": "code",
   "execution_count": 148,
   "metadata": {
    "slideshow": {
     "slide_type": "subslide"
    }
   },
   "outputs": [],
   "source": [
    "class Vehicle(object):\n",
    "    def __init__(self, wheels, miles, model, base_price):\n",
    "        self.wheels = w heels\n",
    "        self.miles = miles\n",
    "        self.model = model\n",
    "        self.base_price = base_price\n",
    "    \n",
    "    def price(self):\n",
    "        return self.base_price - (.10 * self.miles)\n",
    "    \n",
    "Ford = Vehicle(4, 10000, 'Ford', 6000)"
   ]
  },
  {
   "cell_type": "code",
   "execution_count": null,
   "metadata": {
    "collapsed": true
   },
   "outputs": [],
   "source": []
  }
 ],
 "metadata": {
  "kernelspec": {
   "display_name": "Python 3",
   "language": "python",
   "name": "python3"
  },
  "language_info": {
   "codemirror_mode": {
    "name": "ipython",
    "version": 3
   },
   "file_extension": ".py",
   "mimetype": "text/x-python",
   "name": "python",
   "nbconvert_exporter": "python",
   "pygments_lexer": "ipython3",
   "version": "3.6.8"
  },
  "livereveal": {
   "theme": "Serif",
   "transition": "fade"
  }
 },
 "nbformat": 4,
 "nbformat_minor": 2
}
